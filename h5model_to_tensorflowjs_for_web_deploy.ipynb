{
 "cells": [
  {
   "cell_type": "markdown",
   "id": "6d19512d",
   "metadata": {},
   "source": [
    "### OBJECTIVE:"
   ]
  },
  {
   "cell_type": "markdown",
   "id": "495cf0d0",
   "metadata": {},
   "source": [
    "- Converting my trained model that had been saved in Hierarchical Data Format Version 5 (HDF5) by using **TensorFlow.js ML library** to ***develop my model into java script***\n",
    "- The result is a model in JSON and binary format that can be deployed as an app on the web\n",
    "- Easily **deploy my NLP model into a web application using Netlify**"
   ]
  },
  {
   "cell_type": "code",
   "execution_count": null,
   "id": "600a88ed",
   "metadata": {},
   "outputs": [],
   "source": [
    "# Installing the necessary library\n",
    "!pip3 install tensorflowjs"
   ]
  }
 ],
 "metadata": {
  "kernelspec": {
   "display_name": "tf",
   "language": "python",
   "name": "tf"
  },
  "language_info": {
   "codemirror_mode": {
    "name": "ipython",
    "version": 3
   },
   "file_extension": ".py",
   "mimetype": "text/x-python",
   "name": "python",
   "nbconvert_exporter": "python",
   "pygments_lexer": "ipython3",
   "version": "3.7.13"
  }
 },
 "nbformat": 4,
 "nbformat_minor": 5
}
