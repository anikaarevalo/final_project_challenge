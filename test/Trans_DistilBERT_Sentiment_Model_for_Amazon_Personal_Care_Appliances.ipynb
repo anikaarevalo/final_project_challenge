{
  "nbformat": 4,
  "nbformat_minor": 0,
  "metadata": {
    "colab": {
      "name": "Trans_DistilBERT_Sentiment_Model_for_Amazon_Personal_Care_Appliances.ipynb",
      "provenance": [],
      "collapsed_sections": []
    },
    "kernelspec": {
      "name": "python3",
      "display_name": "Python 3"
    },
    "language_info": {
      "name": "python"
    },
    "accelerator": "GPU"
  },
  "cells": [
    {
      "cell_type": "markdown",
      "source": [
        "## SENTIMENT ANALYSIS OF AMAZON CUSTOMER REVIEW USING PRE-TRAINED TRANSFORMER-BASED NLP MODEL"
      ],
      "metadata": {
        "id": "WV-kUwjjOEeN"
      }
    },
    {
      "cell_type": "markdown",
      "source": [
        "### Objectives of this test\n",
        "\n",
        "- Implement the Hugging Face the **TFDistilBertForSequenceClassification** for **binary text classification** using transfer learning technique\n",
        "- Implement the Hugging Face API for native TensorFlow\n",
        "- Do a **model estimation** by computing the prediction probability for each class"
      ],
      "metadata": {
        "id": "JS6jsrIfn56_"
      }
    },
    {
      "cell_type": "markdown",
      "source": [
        "## DATA PREPARATION"
      ],
      "metadata": {
        "id": "OpLMtJ7_n6AM"
      }
    },
    {
      "cell_type": "markdown",
      "source": [
        "\n",
        "### I. Installing libraries and dependencies"
      ],
      "metadata": {
        "id": "JkeVHkctOq7C"
      }
    },
    {
      "cell_type": "code",
      "source": [
        "# Importing framework for Natural Language Processing (NLP) model development\n",
        "import tensorflow as tf"
      ],
      "metadata": {
        "id": "Drtw3wtAOFDF"
      },
      "execution_count": 1,
      "outputs": []
    },
    {
      "cell_type": "code",
      "metadata": {
        "id": "UTfNHU1GHGY6",
        "colab": {
          "base_uri": "https://localhost:8080/"
        },
        "outputId": "768cc65f-ebd3-4d7f-9bf2-ddf6142784f9"
      },
      "source": [
        "# Making sure a Graphics Processeing Unit (GPU) is available to be able to handle the computational requirements of a\n",
        "# large-sized machine learning model\n",
        "num_gpus_available = len(tf.config.experimental.list_physical_devices('GPU'))\n",
        "print('Num GPUs Available: ', num_gpus_available)  # Note that the model will require the use of GPU\n",
        "assert num_gpus_available > 0"
      ],
      "execution_count": 2,
      "outputs": [
        {
          "output_type": "stream",
          "name": "stdout",
          "text": [
            "Num GPUs Available:  1\n"
          ]
        }
      ]
    },
    {
      "cell_type": "code",
      "metadata": {
        "id": "9KNN_E1tq7NV"
      },
      "source": [
        "# Installing transformers\n",
        "!pip3 install transformers"
      ],
      "execution_count": null,
      "outputs": []
    },
    {
      "cell_type": "code",
      "source": [
        "# Installing version of pandas_ta and numpy v1.19.5 that are compatible with colab \n",
        "# and don't create conflicts when it comes to dependencies\n",
        "! pip3 install pandas_ta==0.2.45b "
      ],
      "metadata": {
        "id": "iWK4w9z3UL-h"
      },
      "execution_count": null,
      "outputs": []
    },
    {
      "cell_type": "code",
      "source": [
        "! pip3 install numpy==1.19.5"
      ],
      "metadata": {
        "id": "1fdN7cH9YkWH",
        "colab": {
          "base_uri": "https://localhost:8080/"
        },
        "outputId": "cca2ff8a-eb22-48c3-d5d6-9e923eaae5b4"
      },
      "execution_count": 5,
      "outputs": [
        {
          "output_type": "stream",
          "name": "stdout",
          "text": [
            "Looking in indexes: https://pypi.org/simple, https://us-python.pkg.dev/colab-wheels/public/simple/\n",
            "Requirement already satisfied: numpy==1.19.5 in /usr/local/lib/python3.7/dist-packages (1.19.5)\n"
          ]
        }
      ]
    },
    {
      "cell_type": "code",
      "metadata": {
        "id": "tOKfB704rhwK"
      },
      "source": [
        "# Importing data analysis tools and modules for NLP tasks\n",
        "from transformers import DistilBertTokenizerFast\n",
        "from transformers import TFDistilBertForSequenceClassification\n",
        "import pandas as pd\n",
        "import numpy as np"
      ],
      "execution_count": 4,
      "outputs": []
    },
    {
      "cell_type": "code",
      "metadata": {
        "id": "90pCPPiQsMTq"
      },
      "source": [
        "# Importing NLTK to be able to perform futher NLP tasks\n",
        "import nltk\n",
        "import re\n",
        "nltk.download('stopwords')\n",
        "from nltk.corpus import stopwords\n",
        "from nltk.stem.porter import PorterStemmer"
      ],
      "execution_count": null,
      "outputs": []
    },
    {
      "cell_type": "markdown",
      "source": [
        "### II. Importing data set, exploratory data analysis, and preprocessing"
      ],
      "metadata": {
        "id": "6hUEYmElOV4I"
      }
    },
    {
      "cell_type": "markdown",
      "source": [
        "The dataset that I am using is the **amazon personal care appliances reviews** which is a subset of the large Amazon Product review. The dataset is already stored in the **TensorFlow database** and can be loaded directly using the ‘tfds‘ API from Tensorflow. \n",
        "\n",
        "The dataset consists of reviews of **Amazon Personal_Care_Appliances_v1_00 products in US marketplace**."
      ],
      "metadata": {
        "id": "1EK98w9JR5hT"
      }
    },
    {
      "cell_type": "code",
      "metadata": {
        "id": "9Xg265TdvP1Q"
      },
      "source": [
        "import tensorflow_datasets as tfds\n",
        "ds = tfds.load('amazon_us_reviews/Personal_Care_Appliances_v1_00', split='train', shuffle_files=True)\n",
        "assert isinstance(ds, tf.data.Dataset)\n",
        "print(ds)"
      ],
      "execution_count": null,
      "outputs": []
    },
    {
      "cell_type": "code",
      "metadata": {
        "id": "pqQ_7d_EvVK6"
      },
      "source": [
        "# Converting dataset into a pandas data frame using ‘tfds.as_dataframe‘ API.\n",
        "df = tfds.as_dataframe(ds)"
      ],
      "execution_count": null,
      "outputs": []
    },
    {
      "cell_type": "code",
      "metadata": {
        "colab": {
          "base_uri": "https://localhost:8080/",
          "height": 426
        },
        "id": "MBfSPpnRwSva",
        "outputId": "8143666f-22e5-4f63-dbd4-d23a562756cb"
      },
      "source": [
        "# Getting a glimpse of the data frame\n",
        "df.head()"
      ],
      "execution_count": null,
      "outputs": [
        {
          "output_type": "execute_result",
          "data": {
            "text/plain": [
              "  data/customer_id  data/helpful_votes data/marketplace  \\\n",
              "0      b'13986323'                   0            b'US'   \n",
              "1      b'50574716'                   3            b'US'   \n",
              "2      b'50593972'                   0            b'US'   \n",
              "3      b'18935813'                   0            b'US'   \n",
              "4      b'48412788'                   1            b'US'   \n",
              "\n",
              "         data/product_category data/product_id data/product_parent  \\\n",
              "0  b'Personal_Care_Appliances'   b'B00847JQZ6'        b'997683625'   \n",
              "1  b'Personal_Care_Appliances'   b'B00N5HD340'        b'955577225'   \n",
              "2  b'Personal_Care_Appliances'   b'B0077L1X24'        b'120764066'   \n",
              "3  b'Personal_Care_Appliances'   b'B001CHCQ9I'        b'830133534'   \n",
              "4  b'Personal_Care_Appliances'   b'B0016BJS2S'        b'925685259'   \n",
              "\n",
              "                                  data/product_title  \\\n",
              "0  b'SE - Reading Glass - Spring Loaded Hinges, 4...   \n",
              "1                                  b'Straight Razor'   \n",
              "2  b'Philips Sonicare Flexcare & Healthy White Pl...   \n",
              "3           b'Massage Table Sheet Set - Poly/cotton'   \n",
              "4        b'TRIMEDICA, AlkaMax pH Plus Liquid - 1 oz'   \n",
              "\n",
              "                                    data/review_body data/review_date  \\\n",
              "0  b\"These glasses are an excellent value.  The f...    b'2015-01-04'   \n",
              "1  b\"Always wanted to try straight razor shaving ...    b'2015-08-05'   \n",
              "2  b'I usually either throw my toothbrush in a pl...    b'2012-11-17'   \n",
              "3                                    b'Top quality.'    b'2014-12-22'   \n",
              "4  b'Today I received  1 Fl. Oz, Natures Balance ...    b'2014-06-11'   \n",
              "\n",
              "                                data/review_headline     data/review_id  \\\n",
              "0  b'These glasses are an excellent value. The fi...  b'R3VEUFVA9QJY55'   \n",
              "1  b'A fantastic way to cheaply try straight razo...  b'R2DTQV5SMJ0CK7'   \n",
              "2                                b'Great for travel'  b'R3OJ06NK99WLNJ'   \n",
              "3                                      b'Five Stars'  b'R3B4JKHR1KTI7J'   \n",
              "4                      b'*Product sent not as shown'  b'R3H50GB2FS0QPC'   \n",
              "\n",
              "   data/star_rating  data/total_votes  data/verified_purchase  data/vine  \n",
              "0                 4                 0                       0          1  \n",
              "1                 5                 3                       0          1  \n",
              "2                 4                 0                       0          1  \n",
              "3                 5                 0                       0          1  \n",
              "4                 3                 1                       0          1  "
            ],
            "text/html": [
              "\n",
              "  <div id=\"df-9f59e1de-25a3-4699-b8d2-9ab23e0e6836\">\n",
              "    <div class=\"colab-df-container\">\n",
              "      <div>\n",
              "<style scoped>\n",
              "    .dataframe tbody tr th:only-of-type {\n",
              "        vertical-align: middle;\n",
              "    }\n",
              "\n",
              "    .dataframe tbody tr th {\n",
              "        vertical-align: top;\n",
              "    }\n",
              "\n",
              "    .dataframe thead th {\n",
              "        text-align: right;\n",
              "    }\n",
              "</style>\n",
              "<table border=\"1\" class=\"dataframe\">\n",
              "  <thead>\n",
              "    <tr style=\"text-align: right;\">\n",
              "      <th></th>\n",
              "      <th>data/customer_id</th>\n",
              "      <th>data/helpful_votes</th>\n",
              "      <th>data/marketplace</th>\n",
              "      <th>data/product_category</th>\n",
              "      <th>data/product_id</th>\n",
              "      <th>data/product_parent</th>\n",
              "      <th>data/product_title</th>\n",
              "      <th>data/review_body</th>\n",
              "      <th>data/review_date</th>\n",
              "      <th>data/review_headline</th>\n",
              "      <th>data/review_id</th>\n",
              "      <th>data/star_rating</th>\n",
              "      <th>data/total_votes</th>\n",
              "      <th>data/verified_purchase</th>\n",
              "      <th>data/vine</th>\n",
              "    </tr>\n",
              "  </thead>\n",
              "  <tbody>\n",
              "    <tr>\n",
              "      <th>0</th>\n",
              "      <td>b'13986323'</td>\n",
              "      <td>0</td>\n",
              "      <td>b'US'</td>\n",
              "      <td>b'Personal_Care_Appliances'</td>\n",
              "      <td>b'B00847JQZ6'</td>\n",
              "      <td>b'997683625'</td>\n",
              "      <td>b'SE - Reading Glass - Spring Loaded Hinges, 4...</td>\n",
              "      <td>b\"These glasses are an excellent value.  The f...</td>\n",
              "      <td>b'2015-01-04'</td>\n",
              "      <td>b'These glasses are an excellent value. The fi...</td>\n",
              "      <td>b'R3VEUFVA9QJY55'</td>\n",
              "      <td>4</td>\n",
              "      <td>0</td>\n",
              "      <td>0</td>\n",
              "      <td>1</td>\n",
              "    </tr>\n",
              "    <tr>\n",
              "      <th>1</th>\n",
              "      <td>b'50574716'</td>\n",
              "      <td>3</td>\n",
              "      <td>b'US'</td>\n",
              "      <td>b'Personal_Care_Appliances'</td>\n",
              "      <td>b'B00N5HD340'</td>\n",
              "      <td>b'955577225'</td>\n",
              "      <td>b'Straight Razor'</td>\n",
              "      <td>b\"Always wanted to try straight razor shaving ...</td>\n",
              "      <td>b'2015-08-05'</td>\n",
              "      <td>b'A fantastic way to cheaply try straight razo...</td>\n",
              "      <td>b'R2DTQV5SMJ0CK7'</td>\n",
              "      <td>5</td>\n",
              "      <td>3</td>\n",
              "      <td>0</td>\n",
              "      <td>1</td>\n",
              "    </tr>\n",
              "    <tr>\n",
              "      <th>2</th>\n",
              "      <td>b'50593972'</td>\n",
              "      <td>0</td>\n",
              "      <td>b'US'</td>\n",
              "      <td>b'Personal_Care_Appliances'</td>\n",
              "      <td>b'B0077L1X24'</td>\n",
              "      <td>b'120764066'</td>\n",
              "      <td>b'Philips Sonicare Flexcare &amp; Healthy White Pl...</td>\n",
              "      <td>b'I usually either throw my toothbrush in a pl...</td>\n",
              "      <td>b'2012-11-17'</td>\n",
              "      <td>b'Great for travel'</td>\n",
              "      <td>b'R3OJ06NK99WLNJ'</td>\n",
              "      <td>4</td>\n",
              "      <td>0</td>\n",
              "      <td>0</td>\n",
              "      <td>1</td>\n",
              "    </tr>\n",
              "    <tr>\n",
              "      <th>3</th>\n",
              "      <td>b'18935813'</td>\n",
              "      <td>0</td>\n",
              "      <td>b'US'</td>\n",
              "      <td>b'Personal_Care_Appliances'</td>\n",
              "      <td>b'B001CHCQ9I'</td>\n",
              "      <td>b'830133534'</td>\n",
              "      <td>b'Massage Table Sheet Set - Poly/cotton'</td>\n",
              "      <td>b'Top quality.'</td>\n",
              "      <td>b'2014-12-22'</td>\n",
              "      <td>b'Five Stars'</td>\n",
              "      <td>b'R3B4JKHR1KTI7J'</td>\n",
              "      <td>5</td>\n",
              "      <td>0</td>\n",
              "      <td>0</td>\n",
              "      <td>1</td>\n",
              "    </tr>\n",
              "    <tr>\n",
              "      <th>4</th>\n",
              "      <td>b'48412788'</td>\n",
              "      <td>1</td>\n",
              "      <td>b'US'</td>\n",
              "      <td>b'Personal_Care_Appliances'</td>\n",
              "      <td>b'B0016BJS2S'</td>\n",
              "      <td>b'925685259'</td>\n",
              "      <td>b'TRIMEDICA, AlkaMax pH Plus Liquid - 1 oz'</td>\n",
              "      <td>b'Today I received  1 Fl. Oz, Natures Balance ...</td>\n",
              "      <td>b'2014-06-11'</td>\n",
              "      <td>b'*Product sent not as shown'</td>\n",
              "      <td>b'R3H50GB2FS0QPC'</td>\n",
              "      <td>3</td>\n",
              "      <td>1</td>\n",
              "      <td>0</td>\n",
              "      <td>1</td>\n",
              "    </tr>\n",
              "  </tbody>\n",
              "</table>\n",
              "</div>\n",
              "      <button class=\"colab-df-convert\" onclick=\"convertToInteractive('df-9f59e1de-25a3-4699-b8d2-9ab23e0e6836')\"\n",
              "              title=\"Convert this dataframe to an interactive table.\"\n",
              "              style=\"display:none;\">\n",
              "        \n",
              "  <svg xmlns=\"http://www.w3.org/2000/svg\" height=\"24px\"viewBox=\"0 0 24 24\"\n",
              "       width=\"24px\">\n",
              "    <path d=\"M0 0h24v24H0V0z\" fill=\"none\"/>\n",
              "    <path d=\"M18.56 5.44l.94 2.06.94-2.06 2.06-.94-2.06-.94-.94-2.06-.94 2.06-2.06.94zm-11 1L8.5 8.5l.94-2.06 2.06-.94-2.06-.94L8.5 2.5l-.94 2.06-2.06.94zm10 10l.94 2.06.94-2.06 2.06-.94-2.06-.94-.94-2.06-.94 2.06-2.06.94z\"/><path d=\"M17.41 7.96l-1.37-1.37c-.4-.4-.92-.59-1.43-.59-.52 0-1.04.2-1.43.59L10.3 9.45l-7.72 7.72c-.78.78-.78 2.05 0 2.83L4 21.41c.39.39.9.59 1.41.59.51 0 1.02-.2 1.41-.59l7.78-7.78 2.81-2.81c.8-.78.8-2.07 0-2.86zM5.41 20L4 18.59l7.72-7.72 1.47 1.35L5.41 20z\"/>\n",
              "  </svg>\n",
              "      </button>\n",
              "      \n",
              "  <style>\n",
              "    .colab-df-container {\n",
              "      display:flex;\n",
              "      flex-wrap:wrap;\n",
              "      gap: 12px;\n",
              "    }\n",
              "\n",
              "    .colab-df-convert {\n",
              "      background-color: #E8F0FE;\n",
              "      border: none;\n",
              "      border-radius: 50%;\n",
              "      cursor: pointer;\n",
              "      display: none;\n",
              "      fill: #1967D2;\n",
              "      height: 32px;\n",
              "      padding: 0 0 0 0;\n",
              "      width: 32px;\n",
              "    }\n",
              "\n",
              "    .colab-df-convert:hover {\n",
              "      background-color: #E2EBFA;\n",
              "      box-shadow: 0px 1px 2px rgba(60, 64, 67, 0.3), 0px 1px 3px 1px rgba(60, 64, 67, 0.15);\n",
              "      fill: #174EA6;\n",
              "    }\n",
              "\n",
              "    [theme=dark] .colab-df-convert {\n",
              "      background-color: #3B4455;\n",
              "      fill: #D2E3FC;\n",
              "    }\n",
              "\n",
              "    [theme=dark] .colab-df-convert:hover {\n",
              "      background-color: #434B5C;\n",
              "      box-shadow: 0px 1px 3px 1px rgba(0, 0, 0, 0.15);\n",
              "      filter: drop-shadow(0px 1px 2px rgba(0, 0, 0, 0.3));\n",
              "      fill: #FFFFFF;\n",
              "    }\n",
              "  </style>\n",
              "\n",
              "      <script>\n",
              "        const buttonEl =\n",
              "          document.querySelector('#df-9f59e1de-25a3-4699-b8d2-9ab23e0e6836 button.colab-df-convert');\n",
              "        buttonEl.style.display =\n",
              "          google.colab.kernel.accessAllowed ? 'block' : 'none';\n",
              "\n",
              "        async function convertToInteractive(key) {\n",
              "          const element = document.querySelector('#df-9f59e1de-25a3-4699-b8d2-9ab23e0e6836');\n",
              "          const dataTable =\n",
              "            await google.colab.kernel.invokeFunction('convertToInteractive',\n",
              "                                                     [key], {});\n",
              "          if (!dataTable) return;\n",
              "\n",
              "          const docLinkHtml = 'Like what you see? Visit the ' +\n",
              "            '<a target=\"_blank\" href=https://colab.research.google.com/notebooks/data_table.ipynb>data table notebook</a>'\n",
              "            + ' to learn more about interactive tables.';\n",
              "          element.innerHTML = '';\n",
              "          dataTable['output_type'] = 'display_data';\n",
              "          await google.colab.output.renderOutput(dataTable, element);\n",
              "          const docLink = document.createElement('div');\n",
              "          docLink.innerHTML = docLinkHtml;\n",
              "          element.appendChild(docLink);\n",
              "        }\n",
              "      </script>\n",
              "    </div>\n",
              "  </div>\n",
              "  "
            ]
          },
          "metadata": {},
          "execution_count": 10
        }
      ]
    },
    {
      "cell_type": "code",
      "source": [
        "# Getting the number of rows and columns\n",
        "df.shape"
      ],
      "metadata": {
        "colab": {
          "base_uri": "https://localhost:8080/"
        },
        "id": "toRzPzCGVoyC",
        "outputId": "ba03aaa1-7e14-407f-8147-525d93b2026f"
      },
      "execution_count": null,
      "outputs": [
        {
          "output_type": "execute_result",
          "data": {
            "text/plain": [
              "(85981, 15)"
            ]
          },
          "metadata": {},
          "execution_count": 11
        }
      ]
    },
    {
      "cell_type": "code",
      "source": [
        "# Getting useful information about the data frame\n",
        "# Note that the column containing the labels (i.e. 'star_rating') is integer in type\n",
        "df.info()"
      ],
      "metadata": {
        "colab": {
          "base_uri": "https://localhost:8080/"
        },
        "id": "rW6fSOYdRLuS",
        "outputId": "55b8e9cf-4bab-4536-8e75-679f945d028f"
      },
      "execution_count": null,
      "outputs": [
        {
          "output_type": "stream",
          "name": "stdout",
          "text": [
            "<class 'tensorflow_datasets.core.as_dataframe.StyledDataFrame'>\n",
            "RangeIndex: 85981 entries, 0 to 85980\n",
            "Data columns (total 15 columns):\n",
            " #   Column                  Non-Null Count  Dtype \n",
            "---  ------                  --------------  ----- \n",
            " 0   data/customer_id        85981 non-null  object\n",
            " 1   data/helpful_votes      85981 non-null  int32 \n",
            " 2   data/marketplace        85981 non-null  object\n",
            " 3   data/product_category   85981 non-null  object\n",
            " 4   data/product_id         85981 non-null  object\n",
            " 5   data/product_parent     85981 non-null  object\n",
            " 6   data/product_title      85981 non-null  object\n",
            " 7   data/review_body        85981 non-null  object\n",
            " 8   data/review_date        85981 non-null  object\n",
            " 9   data/review_headline    85981 non-null  object\n",
            " 10  data/review_id          85981 non-null  object\n",
            " 11  data/star_rating        85981 non-null  int32 \n",
            " 12  data/total_votes        85981 non-null  int32 \n",
            " 13  data/verified_purchase  85981 non-null  int64 \n",
            " 14  data/vine               85981 non-null  int64 \n",
            "dtypes: int32(3), int64(2), object(10)\n",
            "memory usage: 8.9+ MB\n"
          ]
        }
      ]
    },
    {
      "cell_type": "code",
      "source": [
        "# Getting statistical information about the data frame\n",
        "# Based on the count, mean, and max values, the data frame contains data that is normalised more or less\n",
        "df.describe()"
      ],
      "metadata": {
        "colab": {
          "base_uri": "https://localhost:8080/",
          "height": 300
        },
        "id": "pT7uBbIQcWZ-",
        "outputId": "d6cbfdab-8506-4496-80e3-addbe04341f4"
      },
      "execution_count": null,
      "outputs": [
        {
          "output_type": "execute_result",
          "data": {
            "text/plain": [
              "       data/helpful_votes  data/star_rating  data/total_votes  \\\n",
              "count        85981.000000      85981.000000      85981.000000   \n",
              "mean             3.349484          3.977402          4.058990   \n",
              "std             19.483167          1.433130         20.825996   \n",
              "min              0.000000          1.000000          0.000000   \n",
              "25%              0.000000          3.000000          0.000000   \n",
              "50%              0.000000          5.000000          1.000000   \n",
              "75%              2.000000          5.000000          3.000000   \n",
              "max           2785.000000          5.000000       2876.000000   \n",
              "\n",
              "       data/verified_purchase     data/vine  \n",
              "count            85981.000000  85981.000000  \n",
              "mean                 0.263651      0.999628  \n",
              "std                  0.440615      0.019288  \n",
              "min                  0.000000      0.000000  \n",
              "25%                  0.000000      1.000000  \n",
              "50%                  0.000000      1.000000  \n",
              "75%                  1.000000      1.000000  \n",
              "max                  1.000000      1.000000  "
            ],
            "text/html": [
              "\n",
              "  <div id=\"df-0e3c3860-d272-4097-b61b-6d46ae940ff6\">\n",
              "    <div class=\"colab-df-container\">\n",
              "      <div>\n",
              "<style scoped>\n",
              "    .dataframe tbody tr th:only-of-type {\n",
              "        vertical-align: middle;\n",
              "    }\n",
              "\n",
              "    .dataframe tbody tr th {\n",
              "        vertical-align: top;\n",
              "    }\n",
              "\n",
              "    .dataframe thead th {\n",
              "        text-align: right;\n",
              "    }\n",
              "</style>\n",
              "<table border=\"1\" class=\"dataframe\">\n",
              "  <thead>\n",
              "    <tr style=\"text-align: right;\">\n",
              "      <th></th>\n",
              "      <th>data/helpful_votes</th>\n",
              "      <th>data/star_rating</th>\n",
              "      <th>data/total_votes</th>\n",
              "      <th>data/verified_purchase</th>\n",
              "      <th>data/vine</th>\n",
              "    </tr>\n",
              "  </thead>\n",
              "  <tbody>\n",
              "    <tr>\n",
              "      <th>count</th>\n",
              "      <td>85981.000000</td>\n",
              "      <td>85981.000000</td>\n",
              "      <td>85981.000000</td>\n",
              "      <td>85981.000000</td>\n",
              "      <td>85981.000000</td>\n",
              "    </tr>\n",
              "    <tr>\n",
              "      <th>mean</th>\n",
              "      <td>3.349484</td>\n",
              "      <td>3.977402</td>\n",
              "      <td>4.058990</td>\n",
              "      <td>0.263651</td>\n",
              "      <td>0.999628</td>\n",
              "    </tr>\n",
              "    <tr>\n",
              "      <th>std</th>\n",
              "      <td>19.483167</td>\n",
              "      <td>1.433130</td>\n",
              "      <td>20.825996</td>\n",
              "      <td>0.440615</td>\n",
              "      <td>0.019288</td>\n",
              "    </tr>\n",
              "    <tr>\n",
              "      <th>min</th>\n",
              "      <td>0.000000</td>\n",
              "      <td>1.000000</td>\n",
              "      <td>0.000000</td>\n",
              "      <td>0.000000</td>\n",
              "      <td>0.000000</td>\n",
              "    </tr>\n",
              "    <tr>\n",
              "      <th>25%</th>\n",
              "      <td>0.000000</td>\n",
              "      <td>3.000000</td>\n",
              "      <td>0.000000</td>\n",
              "      <td>0.000000</td>\n",
              "      <td>1.000000</td>\n",
              "    </tr>\n",
              "    <tr>\n",
              "      <th>50%</th>\n",
              "      <td>0.000000</td>\n",
              "      <td>5.000000</td>\n",
              "      <td>1.000000</td>\n",
              "      <td>0.000000</td>\n",
              "      <td>1.000000</td>\n",
              "    </tr>\n",
              "    <tr>\n",
              "      <th>75%</th>\n",
              "      <td>2.000000</td>\n",
              "      <td>5.000000</td>\n",
              "      <td>3.000000</td>\n",
              "      <td>1.000000</td>\n",
              "      <td>1.000000</td>\n",
              "    </tr>\n",
              "    <tr>\n",
              "      <th>max</th>\n",
              "      <td>2785.000000</td>\n",
              "      <td>5.000000</td>\n",
              "      <td>2876.000000</td>\n",
              "      <td>1.000000</td>\n",
              "      <td>1.000000</td>\n",
              "    </tr>\n",
              "  </tbody>\n",
              "</table>\n",
              "</div>\n",
              "      <button class=\"colab-df-convert\" onclick=\"convertToInteractive('df-0e3c3860-d272-4097-b61b-6d46ae940ff6')\"\n",
              "              title=\"Convert this dataframe to an interactive table.\"\n",
              "              style=\"display:none;\">\n",
              "        \n",
              "  <svg xmlns=\"http://www.w3.org/2000/svg\" height=\"24px\"viewBox=\"0 0 24 24\"\n",
              "       width=\"24px\">\n",
              "    <path d=\"M0 0h24v24H0V0z\" fill=\"none\"/>\n",
              "    <path d=\"M18.56 5.44l.94 2.06.94-2.06 2.06-.94-2.06-.94-.94-2.06-.94 2.06-2.06.94zm-11 1L8.5 8.5l.94-2.06 2.06-.94-2.06-.94L8.5 2.5l-.94 2.06-2.06.94zm10 10l.94 2.06.94-2.06 2.06-.94-2.06-.94-.94-2.06-.94 2.06-2.06.94z\"/><path d=\"M17.41 7.96l-1.37-1.37c-.4-.4-.92-.59-1.43-.59-.52 0-1.04.2-1.43.59L10.3 9.45l-7.72 7.72c-.78.78-.78 2.05 0 2.83L4 21.41c.39.39.9.59 1.41.59.51 0 1.02-.2 1.41-.59l7.78-7.78 2.81-2.81c.8-.78.8-2.07 0-2.86zM5.41 20L4 18.59l7.72-7.72 1.47 1.35L5.41 20z\"/>\n",
              "  </svg>\n",
              "      </button>\n",
              "      \n",
              "  <style>\n",
              "    .colab-df-container {\n",
              "      display:flex;\n",
              "      flex-wrap:wrap;\n",
              "      gap: 12px;\n",
              "    }\n",
              "\n",
              "    .colab-df-convert {\n",
              "      background-color: #E8F0FE;\n",
              "      border: none;\n",
              "      border-radius: 50%;\n",
              "      cursor: pointer;\n",
              "      display: none;\n",
              "      fill: #1967D2;\n",
              "      height: 32px;\n",
              "      padding: 0 0 0 0;\n",
              "      width: 32px;\n",
              "    }\n",
              "\n",
              "    .colab-df-convert:hover {\n",
              "      background-color: #E2EBFA;\n",
              "      box-shadow: 0px 1px 2px rgba(60, 64, 67, 0.3), 0px 1px 3px 1px rgba(60, 64, 67, 0.15);\n",
              "      fill: #174EA6;\n",
              "    }\n",
              "\n",
              "    [theme=dark] .colab-df-convert {\n",
              "      background-color: #3B4455;\n",
              "      fill: #D2E3FC;\n",
              "    }\n",
              "\n",
              "    [theme=dark] .colab-df-convert:hover {\n",
              "      background-color: #434B5C;\n",
              "      box-shadow: 0px 1px 3px 1px rgba(0, 0, 0, 0.15);\n",
              "      filter: drop-shadow(0px 1px 2px rgba(0, 0, 0, 0.3));\n",
              "      fill: #FFFFFF;\n",
              "    }\n",
              "  </style>\n",
              "\n",
              "      <script>\n",
              "        const buttonEl =\n",
              "          document.querySelector('#df-0e3c3860-d272-4097-b61b-6d46ae940ff6 button.colab-df-convert');\n",
              "        buttonEl.style.display =\n",
              "          google.colab.kernel.accessAllowed ? 'block' : 'none';\n",
              "\n",
              "        async function convertToInteractive(key) {\n",
              "          const element = document.querySelector('#df-0e3c3860-d272-4097-b61b-6d46ae940ff6');\n",
              "          const dataTable =\n",
              "            await google.colab.kernel.invokeFunction('convertToInteractive',\n",
              "                                                     [key], {});\n",
              "          if (!dataTable) return;\n",
              "\n",
              "          const docLinkHtml = 'Like what you see? Visit the ' +\n",
              "            '<a target=\"_blank\" href=https://colab.research.google.com/notebooks/data_table.ipynb>data table notebook</a>'\n",
              "            + ' to learn more about interactive tables.';\n",
              "          element.innerHTML = '';\n",
              "          dataTable['output_type'] = 'display_data';\n",
              "          await google.colab.output.renderOutput(dataTable, element);\n",
              "          const docLink = document.createElement('div');\n",
              "          docLink.innerHTML = docLinkHtml;\n",
              "          element.appendChild(docLink);\n",
              "        }\n",
              "      </script>\n",
              "    </div>\n",
              "  </div>\n",
              "  "
            ]
          },
          "metadata": {},
          "execution_count": 13
        }
      ]
    },
    {
      "cell_type": "code",
      "source": [
        "# Finding out the total number of instances of both positive and negative reviews\n",
        "# From a range of 0-5, I will consider a positive rating as a value between 3-5, while \n",
        "# anything less than 3 is a negative rating\n",
        "df['data/star_rating'].value_counts()"
      ],
      "metadata": {
        "colab": {
          "base_uri": "https://localhost:8080/"
        },
        "id": "NuRwa_dBcWlx",
        "outputId": "c720d2a7-7fbb-45c6-e21a-6231ea70e962"
      },
      "execution_count": null,
      "outputs": [
        {
          "output_type": "execute_result",
          "data": {
            "text/plain": [
              "5    48897\n",
              "4    13657\n",
              "1    11036\n",
              "3     7050\n",
              "2     5341\n",
              "Name: data/star_rating, dtype: int64"
            ]
          },
          "metadata": {},
          "execution_count": 14
        }
      ]
    },
    {
      "cell_type": "markdown",
      "source": [
        "**BINARY CLASSIFICATION & IMPUTING 'SENTIMENT' AND 'SHORT_REVIEW' COLUMNS; ADDING 'WORD_COUNTS' FEATURE**\n",
        "\n",
        "The **rating provided by the customer is on a scale of 1-5**( 5 being the highest). As I am going to implement a *binary classification model*, I shall be converting these ratings into 2 categories, i.e 1 and 0. **Ratings above and equal to 3 will be labeled as Positive(1)** and **below 3 will be negative(0)**. The following code will help us implement these steps."
      ],
      "metadata": {
        "id": "3I9Titw2SfH5"
      }
    },
    {
      "cell_type": "code",
      "metadata": {
        "id": "AJJcrfKswe-K"
      },
      "source": [
        "df['Sentiment'] = df['data/star_rating'].apply(lambda score: 'positive' if score >= 3 else 'negative')\n",
        "df['Sentiment'] = df['Sentiment'].map({'positive':1, 'negative':0})"
      ],
      "execution_count": null,
      "outputs": []
    },
    {
      "cell_type": "code",
      "metadata": {
        "id": "j-jC5wTRwrCK"
      },
      "source": [
        "df['short_review'] =df['data/review_body'].str.decode(\"utf-8\")"
      ],
      "execution_count": null,
      "outputs": []
    },
    {
      "cell_type": "code",
      "metadata": {
        "id": "B9lfu8v-CrfL"
      },
      "source": [
        "df = df[['short_review', 'Sentiment']]"
      ],
      "execution_count": null,
      "outputs": []
    },
    {
      "cell_type": "code",
      "source": [
        "# Getting a glimpse of the new data frame\n",
        "df.head()"
      ],
      "metadata": {
        "colab": {
          "base_uri": "https://localhost:8080/",
          "height": 206
        },
        "id": "iXaBwDCipNUb",
        "outputId": "f68afefd-6fae-48c5-ec29-958b8cc5e191"
      },
      "execution_count": null,
      "outputs": [
        {
          "output_type": "execute_result",
          "data": {
            "text/plain": [
              "                                        short_review  Sentiment\n",
              "0  These glasses are an excellent value.  The fit...          1\n",
              "1  Always wanted to try straight razor shaving (a...          1\n",
              "2  I usually either throw my toothbrush in a plas...          1\n",
              "3                                       Top quality.          1\n",
              "4  Today I received  1 Fl. Oz, Natures Balance Al...          1"
            ],
            "text/html": [
              "\n",
              "  <div id=\"df-ecae025c-9a26-414c-ae3c-d429e9ddc711\">\n",
              "    <div class=\"colab-df-container\">\n",
              "      <div>\n",
              "<style scoped>\n",
              "    .dataframe tbody tr th:only-of-type {\n",
              "        vertical-align: middle;\n",
              "    }\n",
              "\n",
              "    .dataframe tbody tr th {\n",
              "        vertical-align: top;\n",
              "    }\n",
              "\n",
              "    .dataframe thead th {\n",
              "        text-align: right;\n",
              "    }\n",
              "</style>\n",
              "<table border=\"1\" class=\"dataframe\">\n",
              "  <thead>\n",
              "    <tr style=\"text-align: right;\">\n",
              "      <th></th>\n",
              "      <th>short_review</th>\n",
              "      <th>Sentiment</th>\n",
              "    </tr>\n",
              "  </thead>\n",
              "  <tbody>\n",
              "    <tr>\n",
              "      <th>0</th>\n",
              "      <td>These glasses are an excellent value.  The fit...</td>\n",
              "      <td>1</td>\n",
              "    </tr>\n",
              "    <tr>\n",
              "      <th>1</th>\n",
              "      <td>Always wanted to try straight razor shaving (a...</td>\n",
              "      <td>1</td>\n",
              "    </tr>\n",
              "    <tr>\n",
              "      <th>2</th>\n",
              "      <td>I usually either throw my toothbrush in a plas...</td>\n",
              "      <td>1</td>\n",
              "    </tr>\n",
              "    <tr>\n",
              "      <th>3</th>\n",
              "      <td>Top quality.</td>\n",
              "      <td>1</td>\n",
              "    </tr>\n",
              "    <tr>\n",
              "      <th>4</th>\n",
              "      <td>Today I received  1 Fl. Oz, Natures Balance Al...</td>\n",
              "      <td>1</td>\n",
              "    </tr>\n",
              "  </tbody>\n",
              "</table>\n",
              "</div>\n",
              "      <button class=\"colab-df-convert\" onclick=\"convertToInteractive('df-ecae025c-9a26-414c-ae3c-d429e9ddc711')\"\n",
              "              title=\"Convert this dataframe to an interactive table.\"\n",
              "              style=\"display:none;\">\n",
              "        \n",
              "  <svg xmlns=\"http://www.w3.org/2000/svg\" height=\"24px\"viewBox=\"0 0 24 24\"\n",
              "       width=\"24px\">\n",
              "    <path d=\"M0 0h24v24H0V0z\" fill=\"none\"/>\n",
              "    <path d=\"M18.56 5.44l.94 2.06.94-2.06 2.06-.94-2.06-.94-.94-2.06-.94 2.06-2.06.94zm-11 1L8.5 8.5l.94-2.06 2.06-.94-2.06-.94L8.5 2.5l-.94 2.06-2.06.94zm10 10l.94 2.06.94-2.06 2.06-.94-2.06-.94-.94-2.06-.94 2.06-2.06.94z\"/><path d=\"M17.41 7.96l-1.37-1.37c-.4-.4-.92-.59-1.43-.59-.52 0-1.04.2-1.43.59L10.3 9.45l-7.72 7.72c-.78.78-.78 2.05 0 2.83L4 21.41c.39.39.9.59 1.41.59.51 0 1.02-.2 1.41-.59l7.78-7.78 2.81-2.81c.8-.78.8-2.07 0-2.86zM5.41 20L4 18.59l7.72-7.72 1.47 1.35L5.41 20z\"/>\n",
              "  </svg>\n",
              "      </button>\n",
              "      \n",
              "  <style>\n",
              "    .colab-df-container {\n",
              "      display:flex;\n",
              "      flex-wrap:wrap;\n",
              "      gap: 12px;\n",
              "    }\n",
              "\n",
              "    .colab-df-convert {\n",
              "      background-color: #E8F0FE;\n",
              "      border: none;\n",
              "      border-radius: 50%;\n",
              "      cursor: pointer;\n",
              "      display: none;\n",
              "      fill: #1967D2;\n",
              "      height: 32px;\n",
              "      padding: 0 0 0 0;\n",
              "      width: 32px;\n",
              "    }\n",
              "\n",
              "    .colab-df-convert:hover {\n",
              "      background-color: #E2EBFA;\n",
              "      box-shadow: 0px 1px 2px rgba(60, 64, 67, 0.3), 0px 1px 3px 1px rgba(60, 64, 67, 0.15);\n",
              "      fill: #174EA6;\n",
              "    }\n",
              "\n",
              "    [theme=dark] .colab-df-convert {\n",
              "      background-color: #3B4455;\n",
              "      fill: #D2E3FC;\n",
              "    }\n",
              "\n",
              "    [theme=dark] .colab-df-convert:hover {\n",
              "      background-color: #434B5C;\n",
              "      box-shadow: 0px 1px 3px 1px rgba(0, 0, 0, 0.15);\n",
              "      filter: drop-shadow(0px 1px 2px rgba(0, 0, 0, 0.3));\n",
              "      fill: #FFFFFF;\n",
              "    }\n",
              "  </style>\n",
              "\n",
              "      <script>\n",
              "        const buttonEl =\n",
              "          document.querySelector('#df-ecae025c-9a26-414c-ae3c-d429e9ddc711 button.colab-df-convert');\n",
              "        buttonEl.style.display =\n",
              "          google.colab.kernel.accessAllowed ? 'block' : 'none';\n",
              "\n",
              "        async function convertToInteractive(key) {\n",
              "          const element = document.querySelector('#df-ecae025c-9a26-414c-ae3c-d429e9ddc711');\n",
              "          const dataTable =\n",
              "            await google.colab.kernel.invokeFunction('convertToInteractive',\n",
              "                                                     [key], {});\n",
              "          if (!dataTable) return;\n",
              "\n",
              "          const docLinkHtml = 'Like what you see? Visit the ' +\n",
              "            '<a target=\"_blank\" href=https://colab.research.google.com/notebooks/data_table.ipynb>data table notebook</a>'\n",
              "            + ' to learn more about interactive tables.';\n",
              "          element.innerHTML = '';\n",
              "          dataTable['output_type'] = 'display_data';\n",
              "          await google.colab.output.renderOutput(dataTable, element);\n",
              "          const docLink = document.createElement('div');\n",
              "          docLink.innerHTML = docLinkHtml;\n",
              "          element.appendChild(docLink);\n",
              "        }\n",
              "      </script>\n",
              "    </div>\n",
              "  </div>\n",
              "  "
            ]
          },
          "metadata": {},
          "execution_count": 18
        }
      ]
    },
    {
      "cell_type": "code",
      "source": [
        "# Adding another feature 'word_counts' to the data frame\n",
        "df['word_counts'] = df['short_review'].apply(lambda x: len(str(x.split())))"
      ],
      "metadata": {
        "id": "nUfv4gYMpZFo"
      },
      "execution_count": null,
      "outputs": []
    },
    {
      "cell_type": "code",
      "source": [
        "# Again taking a glance at the data frame\n",
        "df.head()"
      ],
      "metadata": {
        "colab": {
          "base_uri": "https://localhost:8080/",
          "height": 206
        },
        "id": "85RtwQWfqBcH",
        "outputId": "e583204a-bc7e-4f62-b47a-7cc849512702"
      },
      "execution_count": null,
      "outputs": [
        {
          "output_type": "execute_result",
          "data": {
            "text/plain": [
              "                                        short_review  Sentiment  word_counts\n",
              "0  These glasses are an excellent value.  The fit...          1          465\n",
              "1  Always wanted to try straight razor shaving (a...          1         1169\n",
              "2  I usually either throw my toothbrush in a plas...          1          347\n",
              "3                                       Top quality.          1           19\n",
              "4  Today I received  1 Fl. Oz, Natures Balance Al...          1         1211"
            ],
            "text/html": [
              "\n",
              "  <div id=\"df-8b53db8b-d255-4873-86a8-0aceab9a3cfa\">\n",
              "    <div class=\"colab-df-container\">\n",
              "      <div>\n",
              "<style scoped>\n",
              "    .dataframe tbody tr th:only-of-type {\n",
              "        vertical-align: middle;\n",
              "    }\n",
              "\n",
              "    .dataframe tbody tr th {\n",
              "        vertical-align: top;\n",
              "    }\n",
              "\n",
              "    .dataframe thead th {\n",
              "        text-align: right;\n",
              "    }\n",
              "</style>\n",
              "<table border=\"1\" class=\"dataframe\">\n",
              "  <thead>\n",
              "    <tr style=\"text-align: right;\">\n",
              "      <th></th>\n",
              "      <th>short_review</th>\n",
              "      <th>Sentiment</th>\n",
              "      <th>word_counts</th>\n",
              "    </tr>\n",
              "  </thead>\n",
              "  <tbody>\n",
              "    <tr>\n",
              "      <th>0</th>\n",
              "      <td>These glasses are an excellent value.  The fit...</td>\n",
              "      <td>1</td>\n",
              "      <td>465</td>\n",
              "    </tr>\n",
              "    <tr>\n",
              "      <th>1</th>\n",
              "      <td>Always wanted to try straight razor shaving (a...</td>\n",
              "      <td>1</td>\n",
              "      <td>1169</td>\n",
              "    </tr>\n",
              "    <tr>\n",
              "      <th>2</th>\n",
              "      <td>I usually either throw my toothbrush in a plas...</td>\n",
              "      <td>1</td>\n",
              "      <td>347</td>\n",
              "    </tr>\n",
              "    <tr>\n",
              "      <th>3</th>\n",
              "      <td>Top quality.</td>\n",
              "      <td>1</td>\n",
              "      <td>19</td>\n",
              "    </tr>\n",
              "    <tr>\n",
              "      <th>4</th>\n",
              "      <td>Today I received  1 Fl. Oz, Natures Balance Al...</td>\n",
              "      <td>1</td>\n",
              "      <td>1211</td>\n",
              "    </tr>\n",
              "  </tbody>\n",
              "</table>\n",
              "</div>\n",
              "      <button class=\"colab-df-convert\" onclick=\"convertToInteractive('df-8b53db8b-d255-4873-86a8-0aceab9a3cfa')\"\n",
              "              title=\"Convert this dataframe to an interactive table.\"\n",
              "              style=\"display:none;\">\n",
              "        \n",
              "  <svg xmlns=\"http://www.w3.org/2000/svg\" height=\"24px\"viewBox=\"0 0 24 24\"\n",
              "       width=\"24px\">\n",
              "    <path d=\"M0 0h24v24H0V0z\" fill=\"none\"/>\n",
              "    <path d=\"M18.56 5.44l.94 2.06.94-2.06 2.06-.94-2.06-.94-.94-2.06-.94 2.06-2.06.94zm-11 1L8.5 8.5l.94-2.06 2.06-.94-2.06-.94L8.5 2.5l-.94 2.06-2.06.94zm10 10l.94 2.06.94-2.06 2.06-.94-2.06-.94-.94-2.06-.94 2.06-2.06.94z\"/><path d=\"M17.41 7.96l-1.37-1.37c-.4-.4-.92-.59-1.43-.59-.52 0-1.04.2-1.43.59L10.3 9.45l-7.72 7.72c-.78.78-.78 2.05 0 2.83L4 21.41c.39.39.9.59 1.41.59.51 0 1.02-.2 1.41-.59l7.78-7.78 2.81-2.81c.8-.78.8-2.07 0-2.86zM5.41 20L4 18.59l7.72-7.72 1.47 1.35L5.41 20z\"/>\n",
              "  </svg>\n",
              "      </button>\n",
              "      \n",
              "  <style>\n",
              "    .colab-df-container {\n",
              "      display:flex;\n",
              "      flex-wrap:wrap;\n",
              "      gap: 12px;\n",
              "    }\n",
              "\n",
              "    .colab-df-convert {\n",
              "      background-color: #E8F0FE;\n",
              "      border: none;\n",
              "      border-radius: 50%;\n",
              "      cursor: pointer;\n",
              "      display: none;\n",
              "      fill: #1967D2;\n",
              "      height: 32px;\n",
              "      padding: 0 0 0 0;\n",
              "      width: 32px;\n",
              "    }\n",
              "\n",
              "    .colab-df-convert:hover {\n",
              "      background-color: #E2EBFA;\n",
              "      box-shadow: 0px 1px 2px rgba(60, 64, 67, 0.3), 0px 1px 3px 1px rgba(60, 64, 67, 0.15);\n",
              "      fill: #174EA6;\n",
              "    }\n",
              "\n",
              "    [theme=dark] .colab-df-convert {\n",
              "      background-color: #3B4455;\n",
              "      fill: #D2E3FC;\n",
              "    }\n",
              "\n",
              "    [theme=dark] .colab-df-convert:hover {\n",
              "      background-color: #434B5C;\n",
              "      box-shadow: 0px 1px 3px 1px rgba(0, 0, 0, 0.15);\n",
              "      filter: drop-shadow(0px 1px 2px rgba(0, 0, 0, 0.3));\n",
              "      fill: #FFFFFF;\n",
              "    }\n",
              "  </style>\n",
              "\n",
              "      <script>\n",
              "        const buttonEl =\n",
              "          document.querySelector('#df-8b53db8b-d255-4873-86a8-0aceab9a3cfa button.colab-df-convert');\n",
              "        buttonEl.style.display =\n",
              "          google.colab.kernel.accessAllowed ? 'block' : 'none';\n",
              "\n",
              "        async function convertToInteractive(key) {\n",
              "          const element = document.querySelector('#df-8b53db8b-d255-4873-86a8-0aceab9a3cfa');\n",
              "          const dataTable =\n",
              "            await google.colab.kernel.invokeFunction('convertToInteractive',\n",
              "                                                     [key], {});\n",
              "          if (!dataTable) return;\n",
              "\n",
              "          const docLinkHtml = 'Like what you see? Visit the ' +\n",
              "            '<a target=\"_blank\" href=https://colab.research.google.com/notebooks/data_table.ipynb>data table notebook</a>'\n",
              "            + ' to learn more about interactive tables.';\n",
              "          element.innerHTML = '';\n",
              "          dataTable['output_type'] = 'display_data';\n",
              "          await google.colab.output.renderOutput(dataTable, element);\n",
              "          const docLink = document.createElement('div');\n",
              "          docLink.innerHTML = docLinkHtml;\n",
              "          element.appendChild(docLink);\n",
              "        }\n",
              "      </script>\n",
              "    </div>\n",
              "  </div>\n",
              "  "
            ]
          },
          "metadata": {},
          "execution_count": 20
        }
      ]
    },
    {
      "cell_type": "code",
      "source": [
        "df.info()"
      ],
      "metadata": {
        "colab": {
          "base_uri": "https://localhost:8080/"
        },
        "id": "_Q6EX0VEvZi7",
        "outputId": "7641760e-e781-4907-c1a2-a866e7b1a6b3"
      },
      "execution_count": null,
      "outputs": [
        {
          "output_type": "stream",
          "name": "stdout",
          "text": [
            "<class 'pandas.core.frame.DataFrame'>\n",
            "RangeIndex: 85981 entries, 0 to 85980\n",
            "Data columns (total 3 columns):\n",
            " #   Column        Non-Null Count  Dtype \n",
            "---  ------        --------------  ----- \n",
            " 0   short_review  85981 non-null  object\n",
            " 1   Sentiment     85981 non-null  int64 \n",
            " 2   word_counts   85981 non-null  int64 \n",
            "dtypes: int64(2), object(1)\n",
            "memory usage: 2.0+ MB\n"
          ]
        }
      ]
    },
    {
      "cell_type": "markdown",
      "source": [
        "**PLOTTING AVERAGE NUMBER OF WORDS IN POSITIVE (1) AND NEGATIVE (0) REVIEWS**"
      ],
      "metadata": {
        "id": "pMWZ2RiDqjjO"
      }
    },
    {
      "cell_type": "code",
      "source": [
        "import seaborn as sns\n",
        "from matplotlib import pyplot as plt\n",
        "%matplotlib inline\n",
        "\n",
        "plt.figure(figsize=(20,14))\n",
        "sns.barplot(x='Sentiment', y='word_counts', data=df)\n",
        "plt.title('Avg. no. of words in short_review vs. Sentiment')"
      ],
      "metadata": {
        "colab": {
          "base_uri": "https://localhost:8080/",
          "height": 856
        },
        "id": "RnLmcGfGqOW0",
        "outputId": "1d6a6088-e63b-4f51-9e31-31a87a6d1893"
      },
      "execution_count": null,
      "outputs": [
        {
          "output_type": "execute_result",
          "data": {
            "text/plain": [
              "Text(0.5, 1.0, 'Avg. no. of words in short_review vs. Sentiment')"
            ]
          },
          "metadata": {},
          "execution_count": 22
        },
        {
          "output_type": "display_data",
          "data": {
            "text/plain": [
              "<Figure size 1440x1008 with 1 Axes>"
            ],
            "image/png": "[encoded data removed]"
          },
          "metadata": {
            "needs_background": "light"
          }
        }
      ]
    },
    {
      "cell_type": "markdown",
      "source": [
        "**DISPLAYING NULL VALUES IF ANY IN ANY FEATURE**"
      ],
      "metadata": {
        "id": "dsrNU0M9sQkY"
      }
    },
    {
      "cell_type": "code",
      "source": [
        "print(df.isna().sum()) "
      ],
      "metadata": {
        "colab": {
          "base_uri": "https://localhost:8080/"
        },
        "id": "4xOQzWBNsMVp",
        "outputId": "dddcbf68-73d8-4657-b0c4-e87cfb2889ba"
      },
      "execution_count": null,
      "outputs": [
        {
          "output_type": "stream",
          "name": "stdout",
          "text": [
            "short_review    0\n",
            "Sentiment       0\n",
            "word_counts     0\n",
            "dtype: int64\n"
          ]
        }
      ]
    },
    {
      "cell_type": "markdown",
      "source": [
        "**NOTE**:\n",
        "It appears that the **positive reviews on average contain lesser number of words relative to negative reviews**. "
      ],
      "metadata": {
        "id": "k_GbS9jBrzqy"
      }
    },
    {
      "cell_type": "markdown",
      "source": [
        "**Anticipating Implementation of a Pre-trained BERT NLP model**\n",
        "\n",
        "The dataset consists of several columns ranging from Product ID to reviews, heading, and star rating provided by the customer. For this project, I am extracting mainly the **reviews** (ie feature column) and the **corresponding rating provided by the customer** (i.e. label column). Hence, I am dropping the other features/columns in this data frame. \n",
        "\n",
        "Since our chosen pre-trained model, BERT, requires a lot of computational power and a huge corpus of training data for model development, I am only going to focus on the said two columns of the data frame. "
      ],
      "metadata": {
        "id": "I3yCWb-CUEDx"
      }
    },
    {
      "cell_type": "markdown",
      "source": [
        "### III. Data cleaning: Tokenization of text"
      ],
      "metadata": {
        "id": "2shNgRn-Odqc"
      }
    },
    {
      "cell_type": "markdown",
      "source": [
        "There is a need *to convert the review column into numerical values* as machine learning models operate on numerical features. This is called **text vectorisation**. \n",
        "\n",
        "**METHOD**\n",
        "\n",
        "In this application, I am going to use the **Tokenizer class from pre-trained DistilBert.**"
      ],
      "metadata": {
        "id": "b3jn3R-LVN08"
      }
    },
    {
      "cell_type": "code",
      "metadata": {
        "id": "Q0UtrRBFw-vk"
      },
      "source": [
        "# Converting the feature column ('short_review') and label ('Sentiment') into a set of lists as that’s how our Tokenizer wants the data. \n",
        "reviews = df['short_review'].values.tolist()\n",
        "labels = df['Sentiment'].tolist()"
      ],
      "execution_count": null,
      "outputs": []
    },
    {
      "cell_type": "code",
      "metadata": {
        "id": "FCkVvHg4Iyur"
      },
      "source": [
        "#print(reviews[:2])\n",
        "#print(labels[:2])"
      ],
      "execution_count": null,
      "outputs": []
    },
    {
      "cell_type": "markdown",
      "source": [
        "### IV. Splitting data into training and testing sets\n",
        "\n",
        "The tokenizer needs to be fitted on the training set. To split the data into training and validation sets, we will make use of **Train-test-split class from Scikit-Learn**."
      ],
      "metadata": {
        "id": "ctch5v_veqoY"
      }
    },
    {
      "cell_type": "code",
      "metadata": {
        "id": "Taf-FdW_xcnS"
      },
      "source": [
        "from sklearn.model_selection import train_test_split\n",
        "training_sentences, validation_sentences, training_labels, validation_labels = train_test_split(reviews, labels, test_size=.3)"
      ],
      "execution_count": null,
      "outputs": []
    },
    {
      "cell_type": "code",
      "metadata": {
        "id": "zBoMoLybxkQS"
      },
      "source": [
        "tokenizer = DistilBertTokenizerFast.from_pretrained('distilbert-base-uncased-finetuned-sst-2-english')"
      ],
      "execution_count": 5,
      "outputs": []
    },
    {
      "cell_type": "code",
      "metadata": {
        "id": "UgrctPFOxoom"
      },
      "source": [
        "tokenizer([training_sentences[0]], truncation=True,\n",
        "                            padding=True, max_length=128)"
      ],
      "execution_count": null,
      "outputs": []
    },
    {
      "cell_type": "markdown",
      "source": [
        "The **Tensorflow API** provides a seemingly easy way to build data pipelines. Using 'from-Tensor-Slices', we can easily combine our features tokens and labels into a dataset."
      ],
      "metadata": {
        "id": "bVPTmU65fD_f"
      }
    },
    {
      "cell_type": "code",
      "metadata": {
        "id": "pIcy9PRvxqkS"
      },
      "source": [
        "train_encodings = tokenizer(training_sentences,\n",
        "                            truncation=True,\n",
        "                            padding=True)\n",
        "val_encodings = tokenizer(validation_sentences,\n",
        "                            truncation=True,\n",
        "                            padding=True)"
      ],
      "execution_count": null,
      "outputs": []
    },
    {
      "cell_type": "code",
      "metadata": {
        "id": "GwDP02EPxuOF"
      },
      "source": [
        "train_dataset = tf.data.Dataset.from_tensor_slices((\n",
        "    dict(train_encodings),\n",
        "    training_labels\n",
        "))\n",
        "\n",
        "val_dataset = tf.data.Dataset.from_tensor_slices((\n",
        "    dict(val_encodings),\n",
        "    validation_labels\n",
        "))"
      ],
      "execution_count": null,
      "outputs": []
    },
    {
      "cell_type": "markdown",
      "source": [
        "## MODEL TRAINING AND OPTIMISATION"
      ],
      "metadata": {
        "id": "igw6YxHskgL3"
      }
    },
    {
      "cell_type": "markdown",
      "source": [
        "In this application, I am going to use **TFDistilBertForSequenceClassification** for the sentiment analysis and put the **‘num-labels’ parameter equal to 2 as we are doing a binary classification**."
      ],
      "metadata": {
        "id": "TdsA7AjcPAEI"
      }
    },
    {
      "cell_type": "markdown",
      "source": [
        "### V. Defining and loading the model"
      ],
      "metadata": {
        "id": "YYfmp4TfYD5F"
      }
    },
    {
      "cell_type": "markdown",
      "source": [
        "**FINE-TUNING WITH NATIVE TENSORFLOW**\n",
        "\n",
        "I take an instance of the class **TFDistilBertForSequenceClassification** and point the model’s name as a parameter."
      ],
      "metadata": {
        "id": "PzLHjnIhjBe6"
      }
    },
    {
      "cell_type": "code",
      "source": [
        "# This model is a fine-tune checkpoint of DistilBERT-base-uncased, fine-tuned on SST-2.\n",
        "# Making a model object\n",
        "model = TFDistilBertForSequenceClassification.from_pretrained('distilbert-base-uncased-finetuned-sst-2-english', num_labels=2 )"
      ],
      "metadata": {
        "id": "Un55dQ7gYiA4"
      },
      "execution_count": null,
      "outputs": []
    },
    {
      "cell_type": "code",
      "source": [
        "# Using the Hugginface model saves the time and effort to build the model on one's own\n",
        "# https://www.tensorflow.org/official_models/fine_tuning_bert_files/output_8L__-erBwLIQ_0.png?dcb_=0.04391390122987171\n",
        "model.summary()"
      ],
      "metadata": {
        "colab": {
          "base_uri": "https://localhost:8080/"
        },
        "id": "kbo2N46kj66Q",
        "outputId": "63ff35e4-934f-412f-d069-b279a630d98f"
      },
      "execution_count": null,
      "outputs": [
        {
          "output_type": "stream",
          "name": "stdout",
          "text": [
            "Model: \"tf_distil_bert_for_sequence_classification\"\n",
            "_________________________________________________________________\n",
            " Layer (type)                Output Shape              Param #   \n",
            "=================================================================\n",
            " distilbert (TFDistilBertMai  multiple                 66362880  \n",
            " nLayer)                                                         \n",
            "                                                                 \n",
            " pre_classifier (Dense)      multiple                  590592    \n",
            "                                                                 \n",
            " classifier (Dense)          multiple                  1538      \n",
            "                                                                 \n",
            " dropout_19 (Dropout)        multiple                  0         \n",
            "                                                                 \n",
            "=================================================================\n",
            "Total params: 66,955,010\n",
            "Trainable params: 66,955,010\n",
            "Non-trainable params: 0\n",
            "_________________________________________________________________\n"
          ]
        }
      ]
    },
    {
      "cell_type": "markdown",
      "source": [
        "### VI. Training the model"
      ],
      "metadata": {
        "id": "p_71V1UbYKQc"
      }
    },
    {
      "cell_type": "markdown",
      "source": [
        "There is no need to put additional layers; and using **a Hugging face transformer**, the model can now be trained with the following configuration:\n",
        "\n",
        "**Epochs**: 5\n",
        "\n",
        "**Batch size:** 16\n",
        "\n",
        "**Learning rate (Adam):** 5e-5 (0.00005)\n",
        "\n",
        "*If the number of epochs  increased, it will give rise to overfitting problems as well as take more time for the model to train*. "
      ],
      "metadata": {
        "id": "pW0luj_AfcJI"
      }
    },
    {
      "cell_type": "code",
      "source": [
        "# I implement the 'tf.SparseCategoricalCrossentropy' loss function. \n",
        "# This also means that the labels are mutually exclusive for \n",
        "# each data, meaning each data entry can only belong to one class.\n",
        "optimizerr = tf.keras.optimizers.Adam(learning_rate=5e-5) # Defining the loss function & setting the learning rate\n",
        "losss = tf.keras.losses.SparseCategoricalCrossentropy(from_logits=True) # Computes the crossentropy loss between the labels and predictions \n",
        "model.compile(optimizer=optimizerr,   # Compiling a model                               \n",
        "              loss=losss,\n",
        "              metrics=['accuracy'])\n",
        "history = model.fit(train_dataset.shuffle(100).batch(16),   # Running a model.fit() method for training\n",
        "          epochs=5,\n",
        "          batch_size=16,\n",
        "          validation_data=val_dataset.shuffle(100).batch(16))"
      ],
      "metadata": {
        "id": "xoSX-MRsYa2E",
        "colab": {
          "base_uri": "https://localhost:8080/"
        },
        "outputId": "23659c03-e437-45f0-c5e7-4d919efa8b06"
      },
      "execution_count": null,
      "outputs": [
        {
          "output_type": "stream",
          "name": "stdout",
          "text": [
            "Epoch 1/5\n",
            "3762/3762 [==============================] - 3959s 1s/step - loss: 0.1922 - accuracy: 0.9206 - val_loss: 0.1874 - val_accuracy: 0.9180\n",
            "Epoch 2/5\n",
            "3762/3762 [==============================] - 3941s 1s/step - loss: 0.1295 - accuracy: 0.9507 - val_loss: 0.1710 - val_accuracy: 0.9319\n",
            "Epoch 3/5\n",
            "3762/3762 [==============================] - 3913s 1s/step - loss: 0.0847 - accuracy: 0.9682 - val_loss: 0.2082 - val_accuracy: 0.9273\n",
            "Epoch 4/5\n",
            "3762/3762 [==============================] - 3917s 1s/step - loss: 0.0588 - accuracy: 0.9789 - val_loss: 0.2631 - val_accuracy: 0.9212\n",
            "Epoch 5/5\n",
            "3762/3762 [==============================] - 3914s 1s/step - loss: 0.0447 - accuracy: 0.9844 - val_loss: 0.2956 - val_accuracy: 0.9258\n"
          ]
        }
      ]
    },
    {
      "cell_type": "markdown",
      "source": [
        "*The complete model gets trained in around 1 hour/epoch for five(5) epochs, that’s why it is important to keep the number of epochs and batch size low.*"
      ],
      "metadata": {
        "id": "z8RS3G9sf9ih"
      }
    },
    {
      "cell_type": "markdown",
      "source": [
        "**In 5 epochs, the models give 98% and 92% accuracy on the Training and Validation sets, respectively. Once the model is trained, it can be saved then loaded later for model evaluation on unseen data. This can be done using ‘model.save’ API**."
      ],
      "metadata": {
        "id": "0YY48UFrgXd0"
      }
    },
    {
      "cell_type": "markdown",
      "source": [
        "**PLOT**"
      ],
      "metadata": {
        "id": "MLuYsTTPpCuE"
      }
    },
    {
      "cell_type": "code",
      "source": [
        "import tensorflow as tf\n",
        "from tensorflow import keras\n",
        "from matplotlib import pyplot as plt\n",
        "%matplotlib inline\n",
        "\n",
        "def plot_history(history : tf.keras.callbacks.History):\n",
        "    \"\"\" This helper function takes the tensorflow.python.keras.callbacks.History\n",
        "    that is output from your 'fit' method to plot the loss and accuracy of\n",
        "    the training and validation set.\n",
        "    \"\"\"\n",
        "    fig, axs = plt.subplots(1,2, figsize=(12,6))\n",
        "    axs[0].plot(history.history['accuracy'], label='training set')\n",
        "    axs[0].plot(history.history['val_accuracy'], label = 'validation set')\n",
        "    axs[0].set(xlabel = 'Epoch', ylabel='Accuracy', ylim=[0, 1])\n",
        "\n",
        "    axs[1].plot(history.history['loss'], label='training set')\n",
        "    axs[1].plot(history.history['val_loss'], label = 'validation set')\n",
        "    axs[1].set(xlabel = 'Epoch', ylabel='Loss', ylim=[0, 10])\n",
        "    \n",
        "    axs[0].legend(loc='lower right')\n",
        "    axs[1].legend(loc='lower right')\n",
        "    \n",
        "    plt.show()\n",
        "\n",
        "plot_history(history)"
      ],
      "metadata": {
        "colab": {
          "base_uri": "https://localhost:8080/",
          "height": 392
        },
        "id": "3PVnO0VRpgJh",
        "outputId": "efa3fa34-2084-4a86-96eb-20a29042c14e"
      },
      "execution_count": null,
      "outputs": [
        {
          "output_type": "display_data",
          "data": {
            "text/plain": [
              "<Figure size 864x432 with 2 Axes>"
            ],
            "image/png": "[encoded data removed]"
          },
          "metadata": {
            "needs_background": "light"
          }
        }
      ]
    },
    {
      "cell_type": "markdown",
      "source": [
        "### VII. Saving the model"
      ],
      "metadata": {
        "id": "POAIzhnTgJNe"
      }
    },
    {
      "cell_type": "code",
      "source": [
        "from google.colab import drive\n",
        "drive.mount('/content/drive')"
      ],
      "metadata": {
        "id": "LpKeXDIR4NRf"
      },
      "execution_count": null,
      "outputs": []
    },
    {
      "cell_type": "code",
      "metadata": {
        "id": "Th3vWOBNx2mj"
      },
      "source": [
        "model.save_pretrained('drive/MyDrive/tdb_sentiment')"
      ],
      "execution_count": null,
      "outputs": []
    },
    {
      "cell_type": "code",
      "metadata": {
        "id": "FKEcJE__x4-z"
      },
      "source": [
        "loaded_model = TFDistilBertForSequenceClassification.from_pretrained('drive/MyDrive/tdb_sentiment')"
      ],
      "execution_count": null,
      "outputs": []
    },
    {
      "cell_type": "markdown",
      "source": [
        "## EVALUATION"
      ],
      "metadata": {
        "id": "-Ydbyjy5kad9"
      }
    },
    {
      "cell_type": "markdown",
      "source": [
        "\n",
        "To evaluate the model accuracy on unseen data, the saved data can be loaded and **tested on new input (sentences) to see if the sentiment is predicted correctly or not**."
      ],
      "metadata": {
        "id": "Meij57ZQPIMY"
      }
    },
    {
      "cell_type": "markdown",
      "source": [
        "### VIII. Predicting results"
      ],
      "metadata": {
        "id": "PgYLFT-iU_2g"
      }
    },
    {
      "cell_type": "code",
      "source": [
        "# A 5-star rating from https://www.amazon.com/Philips-PrecisionPerfect-Precision-HP6390-51/dp/B00I471M9E/ref=lp_17395279011_1_8#customerReviews\n",
        "test_review1 = '''    \n",
        "I've been painfully plucking my chin hairs \n",
        "and lady moustache for years. This thing does \n",
        "wonders!! The blade is close enough to get a smooth \n",
        "shave, and it also has a protector so it doesn't cut your \n",
        "skin. Easy to use; MUCH faster than plucking; and less \n",
        "painful than waxing and plucking. Would definitely recommend!!\n",
        "'''\n",
        "\n",
        "predict_input = tokenizer.encode(test_review1,\n",
        "                                 truncation=True,\n",
        "                                 padding=True,\n",
        "                                 return_tensors='tf')\n",
        "\n",
        "tf_output = loaded_model.predict(predict_input)[0]\n",
        "tf_prediction = tf.nn.softmax(tf_output, axis=1)  # Activation set to softmax for Sparse Categorical Entropy loss\n",
        "labels = ['Negative','Positive']\n",
        "label = tf.argmax(tf_prediction, axis=1)\n",
        "label = label.numpy()\n",
        "print(labels[label[0]])"
      ],
      "metadata": {
        "colab": {
          "base_uri": "https://localhost:8080/"
        },
        "id": "mpxNggIef22W",
        "outputId": "15392963-500c-444c-daaa-8188ca451d27"
      },
      "execution_count": 11,
      "outputs": [
        {
          "output_type": "stream",
          "name": "stdout",
          "text": [
            "Positive\n"
          ]
        }
      ]
    },
    {
      "cell_type": "code",
      "source": [
        "# A 1-star rating from https://www.amazon.com/product-reviews/B00I471M9E/ref=acr_dp_hist_1?ie=UTF8&filterByStar=one_star&reviewerType=all_reviews#reviews-filter-bar\n",
        "test_review2 = '''\n",
        "This product lasted about 4 months - thought the battery was bad \n",
        "so I replaced it and it still didn’t work - it was dead ! I used it \n",
        "a total of 3 times !!! Had to toss , would not buy again ... I’m going \n",
        "back to my old school methods of using a scissor and a comb ...\n",
        "'''\n",
        "predict_input = tokenizer.encode(test_review2,\n",
        "                                 truncation=True,\n",
        "                                 padding=True,\n",
        "                                 return_tensors='tf')\n",
        "\n",
        "tf_output = loaded_model.predict(predict_input)[0]\n",
        "tf_prediction = tf.nn.softmax(tf_output, axis=1)  # Activation set to softmax for Sparse Categorical Entropy loss\n",
        "labels = ['Negative','Positive']\n",
        "label = tf.argmax(tf_prediction, axis=1)\n",
        "label = label.numpy()\n",
        "print(labels[label[0]])"
      ],
      "metadata": {
        "colab": {
          "base_uri": "https://localhost:8080/"
        },
        "id": "ypyRTJ0PhVqK",
        "outputId": "f8a59d05-92a7-49fd-8c4d-27dc800a1e54"
      },
      "execution_count": 12,
      "outputs": [
        {
          "output_type": "stream",
          "name": "stdout",
          "text": [
            "Negative\n"
          ]
        }
      ]
    },
    {
      "cell_type": "markdown",
      "source": [
        "## CONCLUSION"
      ],
      "metadata": {
        "id": "diU6eQGikYVx"
      }
    },
    {
      "cell_type": "markdown",
      "source": [
        "**My re-trained transformer NLP model, a pre-trained DistilBERT, is a MVP** that analyses and predicts with remarkable accuracy between a positive and a negative customer review. "
      ],
      "metadata": {
        "id": "LvKuz4p4PLih"
      }
    }
  ]
}