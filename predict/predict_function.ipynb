{
  "nbformat": 4,
  "nbformat_minor": 0,
  "metadata": {
    "colab": {
      "name": "predict_function.ipynb",
      "provenance": [],
      "collapsed_sections": []
    },
    "kernelspec": {
      "name": "python3",
      "display_name": "Python 3"
    },
    "language_info": {
      "name": "python"
    },
    "accelerator": "GPU",
    "gpuClass": "standard"
  },
  "cells": [
    {
      "cell_type": "markdown",
      "source": [
        "**I. Installing machine learning and NLP libraries and dependencies**"
      ],
      "metadata": {
        "id": "Dz5lJECYbyhw"
      }
    },
    {
      "cell_type": "code",
      "source": [
        "import tensorflow as tf\n",
        "num_gpus_available = len(tf.config.experimental.list_physical_devices('GPU'))\n",
        "assert num_gpus_available > 0\n",
        "!pip3 install transformers\n",
        "from transformers import DistilBertTokenizerFast\n",
        "from transformers import TFDistilBertForSequenceClassification\n",
        "from google.colab import drive\n",
        "drive.mount('/content/drive')"
      ],
      "metadata": {
        "id": "FiF-MqRhb0GH"
      },
      "execution_count": null,
      "outputs": []
    },
    {
      "cell_type": "markdown",
      "source": [
        "**II. A function that predicts label (positive or negative) when user inputs according to the parameters of the TFDistilBertForSequenceClassification model**"
      ],
      "metadata": {
        "id": "TSCnRqxyeHEM"
      }
    },
    {
      "cell_type": "code",
      "source": [
        "def predict_label(client_review):    \n",
        "    # Initializing a tokenizer\n",
        "    tokenizer = DistilBertTokenizerFast.from_pretrained('distilbert-base-uncased-finetuned-sst-2-english')\n",
        "    # Loading the saved re-trained, pre-trained DistilBert NLP model\n",
        "    loaded_model = TFDistilBertForSequenceClassification.from_pretrained('drive/MyDrive/tdb_sentiment')\n",
        "\n",
        "    # Predicting on unseen/new data\n",
        "    predict_input = tokenizer.encode(client_review,\n",
        "                                    truncation=True, \n",
        "                                    padding=True, \n",
        "                                    return_tensors='tf')\n",
        "    tf_output = loaded_model.predict(predict_input)[0]\n",
        "    tf_prediction = tf.nn.softmax(tf_output, axis=1)  # Activation set to softmax for Sparse Categorical Entropy loss\n",
        "    labels = ['Negative','Positive']\n",
        "    label = tf.argmax(tf_prediction, axis=1)\n",
        "    label = label.numpy()\n",
        "    #print(labels[label[0]])\n",
        "    \n",
        "    # Returning prediction of label (postive or negative)\n",
        "    return labels[label[0]]"
      ],
      "metadata": {
        "id": "AptTSzDScak9"
      },
      "execution_count": null,
      "outputs": []
    },
    {
      "cell_type": "markdown",
      "source": [
        "**III. Sample new input for model prediction**"
      ],
      "metadata": {
        "id": "NJC-9IRSe1RP"
      }
    },
    {
      "cell_type": "code",
      "source": [
        "client_review = '''    \n",
        "I've been painfully plucking my chin hairs \n",
        "and lady moustache for years. This thing does \n",
        "wonders!! The blade is close enough to get a smooth \n",
        "shave, and it also has a protector so it doesn't cut your \n",
        "skin. Easy to use; MUCH faster than plucking; and less \n",
        "painful than waxing and plucking. Would definitely recommend!!\n",
        "'''"
      ],
      "metadata": {
        "id": "p1K99srQdtc2"
      },
      "execution_count": null,
      "outputs": []
    },
    {
      "cell_type": "markdown",
      "source": [
        "**IV. Calling the prediction of the label (positive or negative) after user data is put in in the form of a numpy array**"
      ],
      "metadata": {
        "id": "oxlSNr4Men8L"
      }
    },
    {
      "cell_type": "code",
      "source": [
        "predict_label(client_review)"
      ],
      "metadata": {
        "id": "V_f6461vdxUp",
        "colab": {
          "base_uri": "https://localhost:8080/",
          "height": 159
        },
        "outputId": "09704a9e-6320-4480-d961-2cc3140d5d94"
      },
      "execution_count": null,
      "outputs": [
        {
          "output_type": "stream",
          "name": "stderr",
          "text": [
            "Some layers from the model checkpoint at drive/MyDrive/tdb_sentiment were not used when initializing TFDistilBertForSequenceClassification: ['dropout_19']\n",
            "- This IS expected if you are initializing TFDistilBertForSequenceClassification from the checkpoint of a model trained on another task or with another architecture (e.g. initializing a BertForSequenceClassification model from a BertForPreTraining model).\n",
            "- This IS NOT expected if you are initializing TFDistilBertForSequenceClassification from the checkpoint of a model that you expect to be exactly identical (initializing a BertForSequenceClassification model from a BertForSequenceClassification model).\n",
            "Some layers of TFDistilBertForSequenceClassification were not initialized from the model checkpoint at drive/MyDrive/tdb_sentiment and are newly initialized: ['dropout_99']\n",
            "You should probably TRAIN this model on a down-stream task to be able to use it for predictions and inference.\n"
          ]
        },
        {
          "output_type": "stream",
          "name": "stdout",
          "text": [
            "WARNING:tensorflow:5 out of the last 5 calls to <function Model.make_predict_function.<locals>.predict_function at 0x7f58a486e9e0> triggered tf.function retracing. Tracing is expensive and the excessive number of tracings could be due to (1) creating @tf.function repeatedly in a loop, (2) passing tensors with different shapes, (3) passing Python objects instead of tensors. For (1), please define your @tf.function outside of the loop. For (2), @tf.function has experimental_relax_shapes=True option that relaxes argument shapes that can avoid unnecessary retracing. For (3), please refer to https://www.tensorflow.org/guide/function#controlling_retracing and https://www.tensorflow.org/api_docs/python/tf/function for  more details.\n"
          ]
        },
        {
          "output_type": "execute_result",
          "data": {
            "text/plain": [
              "'Positive'"
            ],
            "application/vnd.google.colaboratory.intrinsic+json": {
              "type": "string"
            }
          },
          "metadata": {},
          "execution_count": 19
        }
      ]
    }
  ]
}